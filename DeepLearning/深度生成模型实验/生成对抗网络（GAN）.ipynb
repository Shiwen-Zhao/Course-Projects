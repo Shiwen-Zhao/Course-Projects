{
 "cells": [
  {
   "cell_type": "markdown",
   "metadata": {},
   "source": [
    "参考[网站](https://blog.csdn.net/m0_61878383/article/details/122462196)    \n",
    "https://blog.csdn.net/Sakura55/article/details/81512600     \n",
    "https://zhuanlan.zhihu.com/p/34287744    "
   ]
  },
  {
   "cell_type": "markdown",
   "metadata": {},
   "source": [
    "# 一、基本介绍\n",
    "## 1. 基本概念\n",
    "### 1.1 GAN\n",
    "Generative adversarial network（GAN），生成对抗网络\n",
    "### 1.2 组成\n",
    "生成网络（Generator）：它接收一个随机的噪声z（随机数），通过这个噪声生成图像，即**负责生成模拟数据**。   \n",
    "判别网络（Discriminator）：判别一张图片是不是“真实的”，即**负责判断输入的数据是真实的还是生成的**。\n",
    "### 1.3 原理\n",
    "通过生成网络G和判别网络D不断博弈，进而使G学习到数据的分布（思想：博弈论中零和博弈）    \n",
    "\n",
    "通俗理解：生成模型像“一个造假团伙，试图生产和使用假币”，而判别模型像“检测假币的警察”。生成器（generator）试图欺骗判别器（discriminator），判别器则努力不被生成器欺骗。模型经过交替优化训练，两种模型都能得到提升，但最终我们要得到的是效果提升到很高很好的生成模型（造假团伙），这个生成模型（造假团伙）所生成的产品能达到真假难分的地步。     \n",
    "###\n"
   ]
  }
 ],
 "metadata": {
  "language_info": {
   "name": "python"
  }
 },
 "nbformat": 4,
 "nbformat_minor": 2
}
