{
 "cells": [
  {
   "cell_type": "markdown",
   "metadata": {},
   "source": [
    "## torch的安装\n",
    "\n",
    "安装pytorch的cpu版本"
   ]
  },
  {
   "cell_type": "code",
   "execution_count": 8,
   "metadata": {},
   "outputs": [
    {
     "name": "stdout",
     "output_type": "stream",
     "text": [
      "Looking in indexes: https://pypi.tuna.tsinghua.edu.cn/simple\n",
      "Collecting torch==1.10.1\n",
      "  Using cached https://pypi.tuna.tsinghua.edu.cn/packages/c0/f2/b12037765c40da46d7a48914dda220187a69d3a6a1ff102330c2e647f9a6/torch-1.10.1-cp37-cp37m-win_amd64.whl (226.6 MB)\n",
      "Collecting torchvision==0.11.2\n",
      "  Using cached https://pypi.tuna.tsinghua.edu.cn/packages/5f/cf/7100087a34cc1a4fd6aa492edd2fe7c51c6773bad6473bc2551c427834cb/torchvision-0.11.2-cp37-cp37m-win_amd64.whl (984 kB)\n",
      "Requirement already satisfied: typing-extensions in c:\\users\\29533\\anaconda3\\envs\\pytorch1.7\\lib\\site-packages (from torch==1.10.1) (3.10.0.2)\n",
      "Requirement already satisfied: pillow!=8.3.0,>=5.3.0 in c:\\users\\29533\\anaconda3\\envs\\pytorch1.7\\lib\\site-packages (from torchvision==0.11.2) (8.4.0)\n",
      "Requirement already satisfied: numpy in c:\\users\\29533\\anaconda3\\envs\\pytorch1.7\\lib\\site-packages (from torchvision==0.11.2) (1.21.5)\n",
      "Installing collected packages: torch, torchvision\n",
      "Successfully installed torch-1.10.1 torchvision-0.11.2\n"
     ]
    },
    {
     "name": "stderr",
     "output_type": "stream",
     "text": [
      "WARNING: Ignoring invalid distribution -orch (c:\\users\\29533\\anaconda3\\envs\\pytorch1.7\\lib\\site-packages)\n",
      "WARNING: Ignoring invalid distribution -orch (c:\\users\\29533\\anaconda3\\envs\\pytorch1.7\\lib\\site-packages)\n",
      "WARNING: Ignoring invalid distribution -orch (c:\\users\\29533\\anaconda3\\envs\\pytorch1.7\\lib\\site-packages)\n",
      "WARNING: Ignoring invalid distribution -orch (c:\\users\\29533\\anaconda3\\envs\\pytorch1.7\\lib\\site-packages)\n",
      "WARNING: Ignoring invalid distribution -orch (c:\\users\\29533\\anaconda3\\envs\\pytorch1.7\\lib\\site-packages)\n",
      "WARNING: Ignoring invalid distribution -orch (c:\\users\\29533\\anaconda3\\envs\\pytorch1.7\\lib\\site-packages)\n"
     ]
    }
   ],
   "source": [
    "!pip install torch==1.10.1 torchvision==0.11.2"
   ]
  },
  {
   "cell_type": "code",
   "execution_count": 9,
   "metadata": {},
   "outputs": [
    {
     "data": {
      "text/plain": [
       "'1.10.1+cpu'"
      ]
     },
     "execution_count": 9,
     "metadata": {},
     "output_type": "execute_result"
    }
   ],
   "source": [
    "# 验证安装成功\n",
    "import torch\n",
    "torch.__version__\n",
    "# 输出 '1.10.1+cpu'"
   ]
  },
  {
   "cell_type": "code",
   "execution_count": null,
   "metadata": {},
   "outputs": [],
   "source": []
  }
 ],
 "metadata": {
  "coursera": {
   "course_slug": "neural-networks-deep-learning",
   "graded_item_id": "TSPse",
   "launcher_item_id": "24mxX"
  },
  "kernelspec": {
   "display_name": "tf1",
   "language": "python",
   "name": "tf1"
  },
  "language_info": {
   "codemirror_mode": {
    "name": "ipython",
    "version": 3
   },
   "file_extension": ".py",
   "mimetype": "text/x-python",
   "name": "python",
   "nbconvert_exporter": "python",
   "pygments_lexer": "ipython3",
   "version": "3.7.11"
  }
 },
 "nbformat": 4,
 "nbformat_minor": 2
}
